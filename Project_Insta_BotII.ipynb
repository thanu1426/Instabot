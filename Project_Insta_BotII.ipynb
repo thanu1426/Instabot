{
 "cells": [
  {
   "cell_type": "code",
   "execution_count": 58,
   "metadata": {},
   "outputs": [],
   "source": [
    "from selenium import webdriver\n",
    "from selenium.webdriver.common.keys import Keys\n",
    "import time\n",
    "from selenium.common.exceptions import NoSuchElementException\n",
    "from selenium.common.exceptions import StaleElementReferenceException\n",
    "from selenium.common.exceptions import TimeoutException\n",
    "from selenium.webdriver.support.ui import WebDriverWait\n",
    "from selenium.webdriver.support import expected_conditions as EC\n",
    "from selenium.webdriver.common.by import By\n",
    "from selenium.webdriver.support.select import Select\n",
    "import matplotlib.pyplot as plt\n"
   ]
  },
  {
   "cell_type": "markdown",
   "metadata": {},
   "source": [
    "## To Start Chrome Driver"
   ]
  },
  {
   "cell_type": "code",
   "execution_count": 2,
   "metadata": {},
   "outputs": [],
   "source": [
    "driver=webdriver.Chrome(executable_path='/Users/download/chromedriver')"
   ]
  },
  {
   "cell_type": "markdown",
   "metadata": {},
   "source": [
    "## Open Insta and provide login credentials"
   ]
  },
  {
   "cell_type": "code",
   "execution_count": 3,
   "metadata": {},
   "outputs": [],
   "source": [
    "driver.get(\"https://www.instagram.com/\")\n",
    "driver.maximize_window()\n",
    "wait_time=WebDriverWait(driver,10).until(EC.presence_of_element_located((By.XPATH, \"//div[contains(@class,'eGOV_')]\")))\n",
    "sample_username='catchy_captures21'\n",
    "sample_password='fluffy080***'\n",
    "\n",
    "username_box=driver.find_element_by_name('username')\n",
    "username_box.send_keys(sample_username)\n",
    "password_box=driver.find_element_by_name('password')\n",
    "password_box.send_keys(sample_password)\n",
    "driver.find_element_by_xpath(\"//button[contains(@class, 'L3NKy')]/div\").click()\n",
    "waiter=WebDriverWait(driver,10).until(EC.presence_of_element_located((By.CLASS_NAME,\"cmbtv\")))"
   ]
  },
  {
   "cell_type": "markdown",
   "metadata": {},
   "source": [
    "## Suppressing \"Remember Login Info\" and \"Turn on Notifications\" Popup"
   ]
  },
  {
   "cell_type": "code",
   "execution_count": 4,
   "metadata": {},
   "outputs": [],
   "source": [
    "driver.find_element_by_class_name(\"cmbtv\").click()\n",
    "waiter=WebDriverWait(driver,10).until(EC.presence_of_element_located((By.XPATH,\"//button[contains(@class, 'HoLwm')]\")))\n",
    "driver.find_element_by_xpath(\"//button[contains(@class, 'HoLwm')]\").click()\n",
    "waiter=WebDriverWait(driver,10).until(EC.presence_of_element_located((By.XPATH,\"//div[contains(@class,'LWmhU')]/input\")))"
   ]
  },
  {
   "cell_type": "markdown",
   "metadata": {},
   "source": [
    "## 1.1. Scraping first 10 instagram handles from 'food' search"
   ]
  },
  {
   "cell_type": "code",
   "execution_count": 5,
   "metadata": {},
   "outputs": [
    {
     "name": "stdout",
     "output_type": "stream",
     "text": [
      "dilsefoodie\n",
      "https://www.instagram.com/dilsefoodie\n",
      "foodtalkindia\n",
      "https://www.instagram.com/foodtalkindia\n",
      "foodhub_n_love\n",
      "https://www.instagram.com/foodhub_n_love\n",
      "foodz.in\n",
      "https://www.instagram.com/foodz.in\n",
      "food_first_always\n",
      "https://www.instagram.com/food_first_always\n",
      "foodwalkofficial\n",
      "https://www.instagram.com/foodwalkofficial\n",
      "food\n",
      "https://www.instagram.com/food\n",
      "simply_unique_1\n",
      "https://www.instagram.com/simply_unique_1\n",
      "yourfoodlab\n",
      "https://www.instagram.com/yourfoodlab\n",
      "_foodiness_\n",
      "https://www.instagram.com/_foodiness_\n"
     ]
    }
   ],
   "source": [
    "search_box=driver.find_element_by_xpath(\"//div[contains(@class,'LWmhU')]/input\")\n",
    "search_box.send_keys('food')\n",
    "waiter=WebDriverWait(driver,10).until(EC.presence_of_element_located((By.XPATH,\"//a[contains(@class,'yCE8d')]/div/div[2]/div/span\")))\n",
    "\n",
    "\n",
    "##each of the handles is opened in a new window to exract the number of followers\n",
    "food_handles=[]\n",
    "follower_dict={}\n",
    "for i in driver.find_elements_by_xpath('//a[contains(@class,\"yCE8d\")]/div/div[2]/div/span')[0:10]:\n",
    "    handle_name=i.get_attribute('innerHTML')\n",
    "    print(handle_name)\n",
    "    url=\"https://www.instagram.com/\"+ handle_name\n",
    "    print(url)\n",
    "    driver.execute_script('window.open(arguments[0]);',url)\n",
    "    windows=driver.window_handles\n",
    "    base_window=driver.current_window_handle\n",
    "    driver.switch_to.window(windows[1])\n",
    "    #to find total number of followers\n",
    "    total_followers=driver.find_element_by_xpath('//section[@class=\"zwlfE\"]/ul/li/a/span').get_attribute('title')\n",
    "    try:\n",
    "        total_followers=int((total_followers).replace(\",\",\"\"))\n",
    "    except AttributeError:\n",
    "         total_followers=int(total_followers)\n",
    "    follower_dict[handle_name]=total_followers\n",
    "    driver.execute_script('window.close();')\n",
    "    driver.switch_to.window(base_window)\n",
    "\n"
   ]
  },
  {
   "cell_type": "code",
   "execution_count": 6,
   "metadata": {},
   "outputs": [
    {
     "name": "stdout",
     "output_type": "stream",
     "text": [
      "yourfoodlab , Followers: 1427207\n",
      "dilsefoodie , Followers: 630576\n",
      "foodtalkindia , Followers: 302524\n",
      "food , Followers: 84453\n",
      "food_first_always , Followers: 29661\n"
     ]
    }
   ],
   "source": [
    "#sorting the dictionary based on the number of followers  and printing the top 5 handles with their number of followers\n",
    "sorted_list=sorted(follower_dict.items(),key=lambda x:x[1],reverse=True)\n",
    "top_5=sorted_list[:5]\n",
    "for i in top_5:\n",
    "    print(i[0],\", Followers:\",i[1])\n"
   ]
  },
  {
   "cell_type": "markdown",
   "metadata": {},
   "source": [
    "## 1.2. Find the number of posts these handles have done in the previous 3 days"
   ]
  },
  {
   "cell_type": "code",
   "execution_count": 7,
   "metadata": {},
   "outputs": [
    {
     "name": "stdout",
     "output_type": "stream",
     "text": [
      "https://www.instagram.com/yourfoodlab\n",
      "2h,1d,2d,3d,3d,yourfoodlab have done 5 posts in past 3 days\n",
      "https://www.instagram.com/dilsefoodie\n",
      "22h,1d,2d,2d,dilsefoodie have done 4 posts in past 3 days\n",
      "https://www.instagram.com/foodtalkindia\n",
      "3h,1d,2d,foodtalkindia have done 3 posts in past 3 days\n",
      "https://www.instagram.com/food\n",
      "21h,1d,2d,3d,food have done 4 posts in past 3 days\n",
      "https://www.instagram.com/food_first_always\n",
      "food_first_always have done 0 posts in past 3 days\n"
     ]
    }
   ],
   "source": [
    "# finding the posts posted by the top 5 handles in the last three days\n",
    "no_of_posts=[]\n",
    "for handle in top_5:\n",
    "    url=\"https://www.instagram.com/\"+ handle[0]\n",
    "    print(url)\n",
    "    driver.execute_script('window.open(arguments[0]);',url)\n",
    "    windows=driver.window_handles\n",
    "    base_window=driver.current_window_handle\n",
    "    driver.switch_to.window(windows[1])\n",
    "    count=0\n",
    "    for i in driver.find_elements_by_xpath('//div[@class=\"_9AhH0\"]'):\n",
    "        i.click()\n",
    "        WebDriverWait(driver, 10).until(EC.presence_of_element_located((By.XPATH, '//time[contains(@class, \"Nzb55\")]')))\n",
    "        time_string=driver.find_element_by_xpath('//time[contains(@class, \"Nzb55\")]').get_attribute('innerHTML')\n",
    "        if time_string[-1] in ['h', 's']:\n",
    "            count+=1\n",
    "            print(time_string,end=\",\")\n",
    "        elif time_string[-1]=='d' and int(time_string[:-1])<=3:\n",
    "            count+=1\n",
    "            print(time_string,end=\",\")\n",
    "        else:\n",
    "            driver.find_element_by_xpath(\"//div[contains(@class,'CkGkG')]/div[contains(@class,'Igw0E')]/button\").click()\n",
    "            break\n",
    "        driver.find_element_by_xpath(\"//div[contains(@class,'CkGkG')]/div[contains(@class,'Igw0E')]/button\").click()\n",
    "        time.sleep(1)\n",
    "    no_of_posts.append(count)\n",
    "    print(handle[0],\"have done\", count, \"posts in past 3 days\")\n",
    "    driver.execute_script('window.close();')\n",
    "    driver.switch_to.window(base_window)\n",
    "\n",
    "    \n",
    "    \n",
    "    "
   ]
  },
  {
   "cell_type": "markdown",
   "metadata": {},
   "source": [
    "## 1.3 Depict this information using a suitable graph."
   ]
  },
  {
   "cell_type": "code",
   "execution_count": 8,
   "metadata": {},
   "outputs": [
    {
     "data": {
      "text/plain": [
       "<Figure size 432x288 with 0 Axes>"
      ]
     },
     "metadata": {},
     "output_type": "display_data"
    },
    {
     "data": {
      "image/png": "[encoded data removed]",
      "text/plain": [
       "<Figure size 720x576 with 1 Axes>"
      ]
     },
     "metadata": {
      "needs_background": "light"
     },
     "output_type": "display_data"
    },
    {
     "data": {
      "text/plain": [
       "<Figure size 432x288 with 0 Axes>"
      ]
     },
     "metadata": {},
     "output_type": "display_data"
    },
    {
     "data": {
      "image/png": "[encoded data removed]",
      "text/plain": [
       "<Figure size 720x576 with 1 Axes>"
      ]
     },
     "metadata": {
      "needs_background": "light"
     },
     "output_type": "display_data"
    }
   ],
   "source": [
    "#plotting a graph between 10 users and their number of followers\n",
    "plt.subplots(0, 0)\n",
    "plt.figure(figsize=(10, 8))\n",
    "plt.bar(follower_dict.keys(), follower_dict.values(), color='rbycg')\n",
    "plt.xticks(rotation=45, size=11)\n",
    "plt.yticks(size=11)\n",
    "plt.title('Users against number of followers', size=11)\n",
    "plt.xlabel('users->', size=13)\n",
    "plt.ylabel('followers->', size=13)\n",
    "plt.grid()\n",
    "plt.show()\n",
    "\n",
    "\n",
    "#graph between top 5 users and the number of posts\n",
    "plt.subplots(0, 1)\n",
    "plt.figure(figsize=(10, 8))\n",
    "plt.bar([x[0] for x in top_5], no_of_posts, color='rbycg')\n",
    "plt.xticks(rotation=45, size=11)\n",
    "plt.yticks(size=11)\n",
    "plt.title('Users against number of posts', size=11)\n",
    "plt.xlabel('users->', size=13)\n",
    "plt.ylabel('number of posts->', size=13)\n",
    "plt.grid()\n",
    "plt.show()"
   ]
  },
  {
   "cell_type": "markdown",
   "metadata": {},
   "source": [
    "Thus, we can observe from the graph that:\n",
    "1. yourfoodlab has the maximum number of followers\n",
    "2. dilsefoodie have the maximum number of posts in the past three days"
   ]
  },
  {
   "cell_type": "markdown",
   "metadata": {},
   "source": [
    "## 2.1. Scraping the content from top 10 posts in the previously scraped 5 handles"
   ]
  },
  {
   "cell_type": "code",
   "execution_count": 9,
   "metadata": {},
   "outputs": [
    {
     "name": "stdout",
     "output_type": "stream",
     "text": [
      "https://www.instagram.com/yourfoodlab\n",
      "https://www.instagram.com/dilsefoodie\n",
      "https://www.instagram.com/foodtalkindia\n",
      "https://www.instagram.com/food\n",
      "https://www.instagram.com/food_first_always\n"
     ]
    }
   ],
   "source": [
    "#saving both content and the hashtags used\n",
    "content=[]\n",
    "hashtag_dict={}\n",
    "for handle in top_5:\n",
    "    url=\"https://www.instagram.com/\"+ handle[0]\n",
    "    print(url)\n",
    "    driver.execute_script('window.open(arguments[0]);',url)\n",
    "    windows=driver.window_handles\n",
    "    base_window=driver.current_window_handle\n",
    "    driver.switch_to.window(windows[1])\n",
    "    count=0\n",
    "    for i in driver.find_elements_by_xpath('//div[@class=\"_9AhH0\"]'):\n",
    "        i.click()\n",
    "        WebDriverWait(driver, 10).until(EC.presence_of_element_located((By.XPATH, '//div[contains(@class, \"C4VMK\")]')))\n",
    "        content.append(driver.find_element_by_xpath('//div[contains(@class, \"C4VMK\")]/span').get_attribute('textContent'))\n",
    "        for hashes in driver.find_elements_by_xpath('//div[contains(@class, \"C4VMK\")]/span/a'):\n",
    "            hashtag=hashes.get_attribute('innerHTML')\n",
    "            hashtag_dict[hashtag]=hashtag_dict.get(hashtag,0)+1\n",
    "        count+=1\n",
    "        driver.find_element_by_xpath(\"//div[contains(@class,'CkGkG')]/div[contains(@class,'Igw0E')]/button\").click()\n",
    "        if count==10:\n",
    "            break\n",
    "    time.sleep(1)\n",
    "    driver.execute_script('window.close();')\n",
    "    driver.switch_to.window(base_window)"
   ]
  },
  {
   "cell_type": "code",
   "execution_count": 10,
   "metadata": {},
   "outputs": [],
   "source": [
    "driver.switch_to.window(base_window)"
   ]
  },
  {
   "cell_type": "markdown",
   "metadata": {},
   "source": [
    "## 2.2. Prepare a list of all words used in all the scraped posts and calculate the frequency of each word."
   ]
  },
  {
   "cell_type": "code",
   "execution_count": 11,
   "metadata": {},
   "outputs": [
    {
     "name": "stdout",
     "output_type": "stream",
     "text": [
      "{'My': 2, 'no': 6, 'onion': 4, 'garlic': 9, 'Quick': 1, 'Veg': 2, 'Pulao': 2, 'Recipe': 5, 'prepped': 1, 'in': 38, 'Cooker': 1, 'recipe': 19, 'is': 38, 'out': 15, 'now': 8, 'on': 27, 'Facebook': 7, 'YouTube': 7, 'Check': 2, 'it': 30, 'Navratri': 2, 'has': 7, 'begun': 1, 'and': 104, 'I': 35, 'got': 3, 'so': 5, 'many': 2, 'requests': 1, 'for': 38, 'recipes': 5, 'without': 1, 'also': 2, 'vrat': 2, 'have': 14, 'prepared': 4, 'both': 3, 'the': 99, 'past': 1, 'this': 24, 'one': 7, 'a': 70, 'quick': 3, 'people': 2, 'who': 7, 'dont': 7, 'consume': 3, 'during': 1, 'festive': 1, 'period': 1, 'The': 6, 'turns': 3, 'super': 3, 'good': 1, 'to': 72, 'prep': 1, 'topped': 3, 'with': 41, 'some': 8, 'cucumber': 3, 'pomegranate': 1, 'almond': 4, 'slivers': 1, 'add': 6, 'that': 10, 'fresh': 1, 'bite': 2, 'do': 16, 'try': 12, 'tastes': 3, 'awesome': 1, 'Also': 1, 'if': 5, 'you': 32, 'ingredients': 3, 'from': 7, 'which': 4, 'used': 3, 'avoid': 3, 'those': 2, 'This': 13, 'not': 3, 'but': 9, 'viewers': 1, 'turn': 1, 'vegetarian': 3, 'these': 4, '9': 1, 'days': 5, 'garlicHappy': 1, 'all': 19, 'pulao': 1, 'foodporn': 20, 'brightwin': 1, 'foodiesofinstagram': 9, 'foodlover': 2, 'rice': 2, 'recipeoftheday': 3, 'mumbaifoodie': 9, 'sanjyotkeer': 10, 'mumbaistreetfood': 2, 'mumbaifood': 2, 'Rava': 1, 'Dosa': 1, 'by': 16, 'Chef': 6, 'foodie': 24, 'foodstagram': 16, 'dosa': 1, 'dosalover': 1, 'indianclicks': 1, 'indiancuisine': 2, 'streetfood': 7, 'No': 2, 'Onion': 1, 'Garlic': 3, 'Palak': 1, 'Paneer': 4, 'sanjyotkeerrecipe': 1, 'comfortfood': 6, 'streetphotography': 1, 'food': 32, 'navratri': 1, 'noonionnogarlic': 1, 'Egg': 3, 'Chowmein': 4, 'Roll': 3, 'sanjyotkeerPosting': 1, 'egg': 4, 'just': 7, 'before': 4, 'non': 2, 'zone': 2, 'starts': 3, 'day': 2, 'after': 2, 'roll': 2, 'be': 6, 'amazing': 2, 'personally': 3, 'love': 9, 'noodle': 3, 'Frankie': 6, 'when': 2, 'was': 4, 'studying': 2, 'Podar': 2, 'my': 10, 'junior': 2, 'college': 2, 'version': 5, 'desi': 2, 'because': 4, 'go': 3, 'really': 5, 'well': 6, 'You': 7, 'can': 3, 'cheese': 7, 'schezwan': 2, 'sauce': 12, 'masala': 5, 'will': 9, 'leave': 2, 'link': 3, 'Masala': 3, 'description': 2, 'box': 2, 'Cheersrecipes': 1, 'yourfoodlab': 2, 'frankie': 2, 'Posting': 1, 'Cheersrecipeoftheday': 1, 'rolls': 3, 'streetstyle': 1, 'yummyfood': 1, 'noodles': 1, 'Crust': 1, 'Pizza': 2, 'sanjyotkeerPizza': 1, 'Yes': 3, 'must': 3, 'veggie': 2, 'paneer': 14, 'lovers': 3, 'there': 2, 'Crispy': 2, 'home': 5, 'made': 6, 'Italian': 4, 'herbed': 2, 'pizza': 10, 'goodness': 2, 'There': 3, 'bread': 3, 'crust': 2, 'self': 2, 'Watch': 2, 'One': 2, 'of': 39, 'latest': 2, 'favoritesI': 2, 'am': 2, 'experimenting': 5, 'lot': 5, 'pizzas': 2, 'had': 3, 'pakora': 2, 'very': 3, 'recently': 2, 'blew': 2, 'up': 7, 'more': 7, 'than': 2, '15': 2, 'million': 2, 'views': 2, 'While': 2, 'tried': 3, 'too': 8, 'freshly': 2, 'Herbed': 2, 'It': 3, 'incredible': 2, 'should': 2, 'itrecipe': 3, 'reelsinstagram': 1, 'pizzalover': 1, 'pizzapizzapizza': 1, 'pizzatime': 1, 'paneerlove': 1, 'sanjyot': 1, 'Eggless': 2, 'Almond': 2, 'Cake': 2, 'sanjyotkeerI': 1, 'usually': 2, 'bake': 2, 'much': 2, 'channel': 2, 'yes': 2, 'baking': 2, 'myself': 2, 'kitchen': 2, 'loved': 2, 'easy': 3, 'eggless': 2, 'So': 4, 'let': 4, 'me': 5, 'know': 5, 'how': 4, 'did': 3, 'like': 5, 'itrecipes': 1, 'cake': 3, 'cakesofinstagram': 1, 'Tea': 1, 'Time': 1, 'cakestagram': 1, 'cakedecorating': 1, 'cakecakecake': 1, 'cakedesigner': 1, 'almondcake': 1, 'teatimesnacks': 1, 'tealovers': 1, 'mumbai_ig': 1, 'Bhuna': 1, 'bhuna': 1, 'Next': 1, 'Episode': 1, 'DugDugDug': 1, 'Series': 1, 'pavneetsachdeva': 1, 'dilsefoodie': 4, 'dugdugdug': 1, 'Its': 2, 'Not': 2, 'Only': 2, 'Mine': 1, 'Birthday': 1, 'But': 2, 'Dads': 1, 'Too': 1, 'Thank': 2, 'Soo': 1, 'Much': 1, 'Guys': 1, 'For': 7, 'All': 4, 'Your': 2, 'Love': 6, 'And': 6, 'Wishes': 1, 'Of': 3, 'Fans': 1, 'Hatters': 1, 'TooThanks': 1, 'Always': 1, 'Motivating': 1, 'Me': 1, 'To': 3, 'Make': 1, 'Content': 1, 'Family': 1, 'Dad': 1, 'Tried': 1, 'donergyrosindia': 1, 'At': 4, 'CyberhubWe': 1, 'Peri': 2, 'Chicken': 1, 'Doner': 1, 'Mutton': 1, 'Gyros': 1, 'Along': 1, 'With': 1, 'LemonadeTag': 1, 'Someone': 2, 'Who': 4, 'Would': 1, 'Try': 4, 'Working': 1, 'In': 2, 'Cyberhubdilsefoodie': 1, 'Fluffiest': 1, 'Omelette': 1, 'By': 5, 'Karan': 1, 'DuaBhai': 1, 'Sahab': 1, 'Maza': 1, 'Agya': 1, 'Ye': 1, 'Bana': 1, 'Ke': 1, 'Will': 1, 'Some': 2, 'Other': 1, 'Variety': 1, 'Omelettes': 1, 'Toodilsefoodie': 1, 'Heres': 1, 'best': 2, 'kind': 1, 'fudge': 3, 'Oreo': 4, 'Fudge': 1, 'Get': 1, 'going': 2, 'share': 3, 'your': 27, 'enter': 1, 'delightful': 2, 'OreoReciPic': 1, 'Challenge': 1, 'stand': 2, 'chance': 4, 'win': 4, '1': 9, 'Lakh1': 1, 'Click': 1, 'picture': 1, 'dish2': 1, 'Share': 2, 'FacebookInstagram': 1, 'using': 4, 'OreoReciPic3': 1, 'Tag': 8, 'follow': 3, 'OreoIndia': 1, 'Instagram': 1, 'page4': 1, 'Stand': 2, 'Lakh': 2, 'or': 13, 'years': 1, 'supply': 1, 'OreoWinning': 1, 'dishes': 1, 'recreated': 1, 'Pooja': 1, 'Dhingra': 1, 'Rohan': 1, 'Joshi': 1, 'pictureWhat': 1, 'are': 10, 'waiting': 1, 'Add': 6, 'creative': 1, 'twist': 1, 'dish': 1, 'entry': 1, 'contest': 1, 'ends': 1, '28th': 1, 'octTC': 1, 'apply': 1, 'visithttpsbitlyOreoReciPicTnCOreo': 1, 'ContestAlert': 2, 'RecipeContest': 1, 'Contestgram': 1, 'Contestgiveaway': 1, 'Competition': 1, 'Participate': 1, 'IndiaSharing': 1, 'little': 1, 'IngredientsOreo': 1, 'biscuits': 2, 'full': 2, 'pack': 2, '14': 2, 'pcs': 1, 'Condensed': 1, 'milk': 3, 'tin': 2, 'White': 1, 'chocolate': 8, '400gms': 1, 'Process': 1, 'Chop': 1, 'oreo': 1, 'vanilla': 1, 'six': 1, 'parts': 1, 'each': 3, 'Put': 1, 'white': 1, 'heatproof': 1, 'bowl': 4, 'double': 1, 'boiler': 1, 'melt': 1, 'then': 3, 'pour': 2, 'condensed': 1, 'microwave': 1, 'power': 1, '30': 1, 'seconds': 1, 'Remove': 1, 'stir': 3, 'heating': 1, '20second': 1, 'bursts': 1, 'at': 3, 'time': 3, 'until': 5, 'melted': 1, 'mixture': 2, 'thick': 1, 'smoothSpread': 1, '90': 1, 'crushed': 1, 'Oreos': 2, 'over': 4, 'mix': 1, 'Grease': 1, 'layer': 1, 'butter': 1, 'paper': 1, 'ready': 2, 'batter': 1, 'Arrange': 1, 'remaining': 1, 'top': 1, 'press': 1, 'them': 5, 'down': 1, 'fingertips': 1, 'Smooth': 1, 'surface': 1, 'knife': 2, 'Place': 1, 'tray': 1, 'fridge': 1, '4': 2, '5': 4, 'hours': 1, 'set': 1, 'Use': 1, 'sharp': 1, 'cut': 1, 'into': 3, 'bitesized': 1, 'pieces': 2, 'servingTasty': 1, 'treats': 2, 'way': 6, 'Go': 1, 'create': 1, 'Giving': 1, 'Him': 1, 'Bribe': 1, '2': 1, 'Spoon': 1, 'Sugar': 1, 'Free': 1, 'Ice': 1, 'CreamIf': 1, 'He': 1, 'Finish': 1, 'His': 1, 'Medicine': 1, 'dad': 1, 'forever': 1, 'CR': 2, 'PARK': 1, 'MARKET': 1, 'IChinese': 1, 'Chaat': 1, 'Park': 1, 'Is': 2, 'Must': 1, 'Mughlai': 1, 'Parantha': 2, 'Amritsar': 1, 'Ka': 1, 'Best': 1, 'Kulcha': 1, 'Pehalwan': 1, 'KulchaTag': 1, 'Amritsari': 1, 'Kulchadilsefoodie': 1, 'Cheese': 5, 'Slice': 2, 'Wala': 1, 'chatpati_shikhaTag': 1, 'Lovers': 1, 'Recipedilsefoodie': 1, 'Meet': 1, 'Kanta': 1, 'Devi': 1, 'Selling': 1, 'Tandoori': 1, 'Roti': 1, 'Rs': 1, 'OnlyNear': 1, 'Ranbir': 1, 'Bakery': 1, 'Fateh': 1, 'NagarShe': 1, 'doing': 1, 'take': 2, 'care': 1, 'her': 1, 'family': 1, 'Video': 1, 'Was': 1, 'Recorded': 1, 'Before': 1, 'Corona': 1, 'Pandemicdilsefoodie': 1, 'superwoman': 1, 'GiveawayAlertDo': 1, 'absolutely': 1, 'everything': 2, 'about': 5, 'dessert': 4, 'apples': 2, 'spice': 2, 'we': 5, 'Then': 1, 'gear': 1, 'ones': 2, 'youWeve': 1, 'partnered': 1, 'Sommet': 2, 'Education': 5, 'leading': 1, 'hospitality': 3, 'education': 2, 'group': 1, 'comprising': 1, 'Glion': 3, 'Institute': 3, 'Higher': 3, 'Les': 2, 'Roches': 2, 'bring': 1, 'fun': 2, 'challengeInspired': 1, 'Glions': 1, 'famous': 2, 'Apple': 3, 'Tatin': 2, 'heres': 1, 'get': 4, 'creativity': 1, 'pie': 1, 'crumble': 1, 'show': 1, 'us': 11, 'experiments': 2, 'apple': 3, 'desserts': 2, 'gastronomy': 1, 'masterclass': 1, 'culinary': 1, 'experts': 1, 'fellow': 1, 'lover': 2, 'tell': 3, 'favourite': 2, 'creation': 1, 'stories': 2, 'tag': 1, 'foodtalkindia': 1, 'glionhospitalityschool': 1, 'lesrochesswitzerland': 2, 'PS': 1, 'Participants': 1, 'public': 1, 'accounts': 1, 'track': 1, 'activations': 1, '10': 1, 'winners': 1, 'picked': 1, 'random': 1, 'Contest': 1, 'closes': 1, 'Sunday': 2, '25th': 1, 'October': 1, 'LesRochesConnect': 2, 'LesRochesWayOfLife': 2, 'GlionConnect': 2, 'GlionSpirit': 2, 'Were': 1, 'back': 1, 'yet': 1, 'another': 3, 'exciting': 1, 'collaboration': 1, 'bringing': 2, 'their': 5, 'Connect': 1, 'Programs': 1, 'specially': 2, 'designed': 1, 'first': 1, 'year': 4, 'bachelors': 1, 'students': 1, 'unable': 1, 'travel': 1, 'campuses': 1, 'Europe': 1, 'right': 3, 'head': 2, 'start': 1, 'journeyConsidering': 1, 'an': 4, 'management': 1, 'Head': 1, 'our': 3, 'bio': 1, 'catch': 1, 'details': 1, 'needHeres': 1, 'founder': 1, 'anjali__batra': 1, 'lovely': 1, 'Cinnamon': 1, 'Pie': 1, 'inspired': 1, 'beautiful': 3, 'challenge': 1, 'coming': 2, 'see': 2, 'stay': 1, 'tunedglionhospitalityschool': 1, 'From': 1, 'sweet': 5, 'tooth': 1, 'beachside': 1, 'remind': 1, 'summer': 1, 'Delhis': 1, 'newest': 1, 'healthy': 5, 'eatery': 1, 'eatdirtygood': 1, 'delicious': 6, 'smoothie': 1, 'bowls': 1, 'They': 1, 'even': 1, 'banana': 1, 'breads': 1, 'as': 6, 'cold': 1, 'brews': 1, 'Their': 2, 'dark': 2, 'monster': 1, 'cookies': 2, 'something': 3, 'want': 3, 'miss': 1, 'chunky': 1, 'flavours': 2, 'pop': 1, 'sea': 2, 'salt': 4, 'youre': 2, 'mood': 1, 'indulge': 1, 'keep': 1, 'pond': 1, 'safdarjung': 1, 'enclave': 1, 'Open': 1, 'everyday': 1, '1030': 1, '7': 1, 'takeaways': 1, 'deliveries': 1, '8860601512': 1, 'offerings': 1, 'found': 1, 'Forest': 1, 'were': 1, 'giving': 1, 'away': 1, 'jadeforestin': 2, 'Grapefruit': 1, 'Tonic': 1, 'Water': 1, 'few': 1, 'wild': 1, 'taking': 1, 'stroll': 1, 'forest': 1, 'comment': 1, 'below': 3, 'Mention': 1, 'city': 1, 'three': 1, 'friends': 1, 'drink': 1, 'Follow': 3, 'Winners': 1, 'announced': 1, 'Monday': 1, 'Happy': 3, 'Dessert': 1, 'Day': 2, 'What': 1, 'national': 1, 'India': 1, 'Here': 1, 'contenders': 1, 'Vote': 1, 'comments': 3, 'section': 2, 'Usain': 1, 'bolt': 1, 'stairs': 1, 'NewInTownCurators': 1, 'Indie': 1, 'Artisanal': 1, 'products': 4, 'grown': 3, 'sustainably': 2, 'delivered': 1, 'hygienically': 1, 'khhetofficial': 1, 'project': 1, 'passion': 1, 'spreading': 1, 'concept': 2, 'sustainable': 1, 'nutrition': 1, 'Khhet': 1, 'takes': 1, 'notion': 1, 'forward': 1, 'holistic': 1, 'wellbeing': 1, 'whole': 1, 'what': 4, 'eat': 10, 'curated': 2, 'menu': 3, 'brings': 1, 'quality': 2, 'plate': 1, 'Each': 1, 'brand': 1, 'listed': 2, 'its': 2, 'own': 1, 'unique': 1, 'story': 1, 'most': 3, 'being': 1, 'Indian': 3, 'brands': 1, 'artisanal': 1, 'fish': 1, 'meats': 1, 'been': 3, 'high': 1, 'sourced': 1, 'world': 1, 'Delivering': 1, 'DelhiNCR': 1, 'ordering': 1, 'DM': 1, 'whatsapp': 1, '8287353881': 1, 'Which': 1, 'McDonalds': 1, 'logo': 1, 'prefer': 3, 'Tell': 1, 'World': 1, 'WorldEggDayA': 1, 'simple': 1, 'scramble': 1, 'sunny': 1, 'side': 1, 'shirred': 1, 'eggs': 1, 'Whats': 2, 'Cant': 1, 'wait': 1, 'here': 1, 'Avocado': 1, 'Toast': 2, 'sourdough': 1, 'sliced': 1, 'avocado': 5, 'smoked': 1, 'salmon': 1, 'hemp': 1, 'seeds': 1, 'dill': 1, 'wearebrightland': 1, 'olive': 3, 'oil': 3, 'Food': 6, 'repost': 6, 'avocadotoast': 2, 'foodphotography': 9, 'buzzfeast': 4, 'yum': 4, 'feedyoursoul': 4, '9gag': 4, 'lunch': 5, 'cheatmeal': 4, 'pescatarian': 4, 'cheatday': 4, 'dinner': 5, 'yummy': 15, 'complex': 4, 'eeeeeats': 14, 'tasty': 5, 'foodpics': 6, 'lovefood': 5, 'healthylifestyle': 1, 'breakfast': 3, 'Easy': 1, 'upbeetandkaleingit': 1, 'chickpea': 1, 'pasta': 9, 'raos': 1, 'marinara': 1, 'portobello': 1, 'mushrooms': 3, 'sautéed': 1, 'bagel': 1, 'season': 1, 'real': 1, 'fast': 1, 'reeeeeeally': 1, 'pastalover': 5, 'seafood': 3, 'shrimp': 3, 'Vegan': 1, 'Mushroom': 1, 'Broccoli': 1, 'Rigatoni': 1, 'comforting': 1, 'packed': 2, 'flavour': 1, 'Byfitonomykitchen': 1, 'eatwithclarity': 1, 'vegansnacksrecipes': 1, 'Pasta16': 1, 'ounces': 1, 'rigatoni1': 1, 'broccoli': 3, 'chopped12': 1, 'cups': 3, 'baby': 1, 'bella': 1, 'mushroomsSauce2': 1, 'unsweetened': 1, 'plain': 1, 'milkJuice': 1, 'lemon': 4, 'taste12': 1, 'large': 4, 'cloves3': 1, 'tbsp': 7, 'brown': 2, 'flour115': 1, 'tsp': 2, 'oilBlack': 1, 'pepper': 4, 'tasteOptional': 1, '12': 2, 'zestinstructionsBring': 1, 'pot': 2, 'water': 2, 'boil': 1, 'cook': 3, 'according': 1, 'package': 1, 'instructions': 1, 'Gently': 1, 'wash': 1, 'remove': 1, 'any': 3, 'dirt': 1, 'mushroom': 1, 'pan': 1, 'inch': 1, 'cover': 1, 'steam': 1, '57': 1, 'minutesPrepare': 1, 'mincing': 1, 'Stir': 1, 'flour': 2, 'whisk': 4, 'rid': 1, 'clumps': 1, 'Slowly': 1, 'continue': 1, 'juice': 1, 'zest': 1, 'Reduce': 1, 'heat': 1, 'low': 1, 'simmer': 1, 'thickened': 1, 'If': 2, 'doesnt': 1, 'thicken': 1, 'desired': 2, 'consistency': 1, 'additional': 2, 'ultra': 1, 'creamy': 2, 'transfer': 1, 'blender': 2, 'use': 3, 'immersion': 1, 'process': 1, 'completely': 1, 'smooth': 1, 'cooked': 1, 'Top': 1, 'red': 3, 'flakes': 1, 'enjoybuzzfeedfood': 1, 'eatright': 1, 'healthylunch': 1, 'eatingfortheinsta': 1, 'healthyfamily': 1, 'healthyfood': 2, 'healthyliving': 1, 'healthyeating': 2, 'vegan': 3, 'veganrecipes': 2, 'veganfood': 2, 'veganlife': 1, 'eathealthy': 2, 'pastalovers': 1, 'Fig': 1, 'Vibes': 1, 'Made': 1, 'only': 2, 'sculptedkitchen': 2, 'organicfood': 1, 'fig': 1, 'fruits': 1, 'snack': 1, 'toasts': 1, 'plantbasedfood': 1, 'thrivemags': 1, 'f52grams': 11, 'eattherainbow': 1, 'beautifulcuisines': 2, 'feedfeed': 3, 'bestofvegan': 1, 'veganfoodshare': 1, 'veganworldshare': 1, 'gloobyfood': 1, 'breakfastinspo': 1, 'veganbreakfast': 1, 'figtoast': 1, 'Roasted': 1, 'Stuffed': 1, 'Butternut': 1, 'Squash': 1, 'paleorunningmomma': 1, 'filled': 1, 'favorites': 1, 'sausage': 1, 'cranberries': 1, 'onions': 2, 'kale': 1, 'pecans': 1, 'savory': 1, 'herbs': 1, 'stuffing': 1, 'savorysweet': 1, 'flavors': 1, 'perfect': 1, 'addition': 2, 'holiday': 1, 'gathering': 1, 'meal': 2, 'Paleo': 1, 'gluten': 2, 'free': 3, 'Whole30': 1, 'compliant': 1, 'healthydinner': 1, 'whole30recipes': 1, 'butternutsquash': 1, 'paleo': 1, 'glutenfree': 1, 'todayfood': 1, 'cleaneats': 1, 'cleaneating': 1, 'foodblogeats': 1, 'tastespotting': 1, 'thekitchn': 1, 'buzzfeedfood': 1, 'foodblogfeed': 1, 'tastingtable': 1, 'paleorecipes': 1, 'glutenfreerecipes': 1, 'paleofood': 1, 'momlife': 1, 'Mouth': 1, 'watering': 1, 'gnocchi': 2, 'the_roamingfoodie': 1, 'Creamy': 1, 'Prawn': 1, 'Pasta': 2, 'food_with_george': 1, 'Take': 1, 'peoplewatching': 1, 'level': 1, 'spread': 1, 'magnificent': 1, 'view': 1, 'Duomo': 1, 'di': 1, 'Milano': 1, 'Breakfast': 1, 'never': 1, 'looked': 2, 'better': 1, 'fashioninmysoul': 1, 'glamour_apartments_milan': 1, 'Italy': 1, 'Rita': 1, 'Ora': 1, 'AnywhereTag': 1, 'foodwithaview': 1, 'lifestyle': 1, 'goodmorning': 1, 'health': 1, 'diet': 1, 'goodfood': 1, 'eggsbenedict': 1, 'eggsandwich': 1, 'instagram': 3, 'foodblogger': 1, 'Veggie': 1, 'Board': 1, 'goals': 1, 'everyone': 1, 'On': 1, 'board': 1, 'items': 1, 'Bread': 1, 'sticksGluten': 1, 'crackersVegan': 1, 'cookiesBagel': 1, 'chipscherriesPassion': 1, 'fruitfigsArtichoke': 1, 'halvesLemon': 1, 'slicesCantaloupe': 1, 'slicespostachiosblueberriesblackberriesCucumber': 1, 'slicesgrapesGoji': 1, 'berriesMango': 1, 'halfDried': 1, 'apricotsCashew': 1, 'halvesVegan': 1, 'cheezeTzizakti': 1, 'dipHummus': 1, 'styling': 1, 'Photography': 1, 'Sarah': 1, 'K': 1, 'fatlossgoals': 2, 'fatlossfood': 2, 'caloriesincaloriesout': 2, 'loseweightforgood': 2, 'fatlossdiet': 2, 'fatlossplan': 2, 'calorieburn': 2, 'losefatfast': 2, 'weighlossmotivation': 2, 'fatlossprogram': 2, 'fatlossprogress': 2, 'caloriecounter': 2, 'weighlosssupport': 2, 'losefatgainmuscle': 2, 'fatlossworkout': 2, 'loseweightfeelgreat': 2, 'caloriecount': 2, 'weighlossgoals': 2, 'losefats': 2, 'caloriecontrol': 2, 'YES': 1, 'PLEASE': 1, 'dennistheprescott': 1, 'loseweightnaturally': 1, 'RAGDA': 1, 'PATTICE': 1, 'Homemade': 1, 'StreetmadeWhich': 1, 'street': 3, 'learnt': 1, 'master': 1, 'thanks': 1, 'lockdown': 1, 'Lockdown': 1, '50': 1, 'opening': 1, 'restaurants': 1, 'eateries': 1, 'sameragdapattice': 1, 'chaatlover': 1, 'mumbaifoodblogger': 3, 'foodfirst': 1, 'foodfirstalways': 3, 'indianstreetfood': 1, 'quarantinelife': 1, 'Oh': 1, 'Ive': 1, 'missed': 1, 'Theres': 1, 'nothing': 1, 'beats': 1, 'hearty': 1, 'north': 1, 'copperchimney_in': 1, 'copperchimney': 1, 'northindianfood': 1, 'feedfeedfoodfirstalways': 7, 'foodporninstagram': 7, 'igersmumbaifoodblogger': 7, 'foodpornmumbai': 7, 'foodlove': 9, 'droolslove': 7, 'foodgasm': 9, 'deliciousbestoftheday': 7, 'hungry': 9, 'nomnomsogood': 7, 'beautifulfoodpics': 7, 'instalike': 9, 'paneertikka': 1, 'Dinner': 1, 'Idli': 1, 'sambhar': 1, 'homemade': 1, 'malgapodi': 1, 'chutney': 2, 'idli': 1, 'idlisambhar': 1, 'foodrecipes': 8, 'Gol': 1, 'gappe': 1, 'MOOD': 1, 'chaat': 2, 'understand': 1, 'golgappe': 1, 'panipuri': 1, 'Pyaaar': 1, 'Especially': 1, 'mausamShaam': 1, 'ka': 1, 'naashta': 1, 'ho': 2, 'toh': 1, 'aisa': 1, 'ya': 1, 'phir': 1, 'na': 1, 'hi': 1, 'Chai': 1, 'chakli': 1, 'happy': 1, 'gujju': 1, 'Watermelon': 1, 'Basil': 1, 'Feta': 1, 'SaladEverytime': 1, 'unhealthy': 1, 'i': 2, 'balance': 1, 'looking': 1, 'delish': 1, 'fruit': 1, 'lets': 1, 'face': 1, 'could': 1, 'immunity': 1, 'boost': 1, 'thr': 1, 'COVID19': 1, 'Times': 1, 'highly': 1, 'recommend': 1, 'watermelon': 2, 'salad': 3, 'Salad4': 1, 'Watermelon12': 1, 'cup': 2, 'Basil12': 1, 'feta': 2, 'optionalHoney': 1, 'lime': 3, 'vinaigrette2': 2, 'Olive': 1, 'oil2': 1, 'Lemon': 1, 'juice2': 1, 'HoneySalt': 1, 'tastePepper': 1, 'taste': 2, 'small': 1, 'together': 2, 'honey': 2, 'Combine': 1, 'basil': 2, 'bowl3': 1, 'Drizzle': 1, 'vinaigrette': 1, 'toss': 1, 'combine4': 1, 'Sprinkle': 1, 'Toss': 1, 'serve': 2, 'immediately': 1, 'chill': 1, 'refrigerator': 1, 'watermelonsaladmumbaifoodie': 1, 'LIFE': 1, 'GOALS': 1, 'IN': 1, '2020EAT': 1, 'PASTA': 3, 'RUN': 1, 'FASTA': 1, 'NOT': 1, 'GAIN': 1, 'ANY': 1, 'WEIGHT': 1, 'food_first_always': 3, 'such': 2, 'photos': 1, 'videos': 1, 'recipespasta': 1, 'redsaucepasta': 1, 'IndianStreetFoodSeries': 1, 'CHEESE': 1, 'ROLL': 1, 'RECIPETAG': 1, 'A': 2, 'LOVERIf': 1, 'churchgate': 1, 'chances': 1, 'already': 1, 'Rajus': 1, 'Sandwiches': 1, 'Raju': 1, 'his': 2, 'cheesy': 3, 'bready': 1, 'delights': 1, 'relished': 1, 'collegegoers': 1, 'combination': 2, 'tangy': 1, 'spicy': 5, 'rolled': 1, 'rollI': 1, 'craving': 4, 'chilli': 2, 'late': 1, 'hence': 1, 'decided': 2, 'make': 2, 'film': 1, 'wellSOME': 1, 'POINTERSI': 1, 'mentioned': 1, 'video': 1, 'say': 1, 'again': 2, 'bottled': 1, 'preferI': 1, 'cooking': 1, 'preservatives': 1, 'especially': 1, 'since': 2, 'theres': 1, '23': 1, 'sauceI': 1, 'adding': 1, 'green': 1, 'adds': 1, 'otherwise': 1, 'bit': 2, 'sweetMAGGI': 1, 'MASALA': 1, 'Now': 1, 'vendors': 1, 'Most': 1, 'maggi': 1, 'give': 1, 'zing': 1, 'WHICH': 1, 'why': 2, 'added': 1, 'Personally': 1, 'would': 1, 'However': 1, 'job': 1, 'likeThe': 1, 'towards': 1, 'end': 1, 'supposed': 1, 'garlicky': 1, 'havent': 1, 'Remember': 1, 'cheesycheesepastaroll': 1, 'Totally': 1, 'today': 1, 'cheesegarlicbread': 1, 'igers': 2, 'mumbai': 2, 'drools': 2, 'bestoftheday': 2, 'nomnom': 2, 'sogood': 2, 'Street': 1, 'Inspired': 1, 'Cheesy': 1, 'Kurkure': 3, 'ChaatTAG': 1, 'FRIEND': 1, 'WHO': 1, 'NEEDS': 1, 'TO': 1, 'SEE': 1, 'THIS': 1, 'RIGHT': 1, 'NOWDo': 1, 'old': 3, 'craves': 1, 'chapati': 3, 'OR': 1, 'Are': 1, 'THAT': 1, 'snacks': 1, 'RNWell': 1, 'case': 1, 'Im': 1, '28': 1, 'heart': 1, 'kid': 1, 'led': 1, 'making': 1, 'chatIt': 1, 'extremely': 1, 'chatpata': 1, 'zingy': 1, 'chutneys': 1, 'Topped': 1, 'tomatoes': 1, 'corn': 1, 'outright': 1, 'Imagine': 1, 'bhel': 1, 'thats': 1, 'tasted': 1, 'fore': 1, 'contentFollow': 1, 'daily': 1, 'dose': 1, 'indiansreetfoodkurkure': 1, 'kurkurechaatfeedfeed': 1}\n"
     ]
    }
   ],
   "source": [
    "#preparing a list of words that is used along with their frequency in the scrapped content\n",
    "import re\n",
    "word_dict={}\n",
    "for j in content:\n",
    "    list_of_words=j.split()\n",
    "    for i in list_of_words:\n",
    "        words=re.sub('\\W','',i)\n",
    "        try:\n",
    "            if words=='':\n",
    "                continue\n",
    "            word_dict[words.strip()]=word_dict.get(words.strip(),0)+1\n",
    "        except IndexError:\n",
    "            continue\n",
    "print(word_dict)\n",
    "        "
   ]
  },
  {
   "cell_type": "markdown",
   "metadata": {},
   "source": [
    "## 2.3. Create a csv file with two columns : the word and its frequency"
   ]
  },
  {
   "cell_type": "code",
   "execution_count": 12,
   "metadata": {},
   "outputs": [],
   "source": [
    "import pandas as pd\n",
    "word_list=[]\n",
    "for key,value in word_dict.items():\n",
    "    word_list.append([key,value])\n",
    "w=pd.DataFrame(word_list,columns=['Word','Frequency'])\n",
    "w.to_csv('word_freq.csv')"
   ]
  },
  {
   "cell_type": "code",
   "execution_count": 13,
   "metadata": {},
   "outputs": [
    {
     "data": {
      "text/html": [
       "<div>\n",
       "<style scoped>\n",
       "    .dataframe tbody tr th:only-of-type {\n",
       "        vertical-align: middle;\n",
       "    }\n",
       "\n",
       "    .dataframe tbody tr th {\n",
       "        vertical-align: top;\n",
       "    }\n",
       "\n",
       "    .dataframe thead th {\n",
       "        text-align: right;\n",
       "    }\n",
       "</style>\n",
       "<table border=\"1\" class=\"dataframe\">\n",
       "  <thead>\n",
       "    <tr style=\"text-align: right;\">\n",
       "      <th></th>\n",
       "      <th>Word</th>\n",
       "      <th>Frequency</th>\n",
       "    </tr>\n",
       "  </thead>\n",
       "  <tbody>\n",
       "    <tr>\n",
       "      <th>0</th>\n",
       "      <td>My</td>\n",
       "      <td>2</td>\n",
       "    </tr>\n",
       "    <tr>\n",
       "      <th>1</th>\n",
       "      <td>no</td>\n",
       "      <td>6</td>\n",
       "    </tr>\n",
       "    <tr>\n",
       "      <th>2</th>\n",
       "      <td>onion</td>\n",
       "      <td>4</td>\n",
       "    </tr>\n",
       "    <tr>\n",
       "      <th>3</th>\n",
       "      <td>garlic</td>\n",
       "      <td>9</td>\n",
       "    </tr>\n",
       "    <tr>\n",
       "      <th>4</th>\n",
       "      <td>Quick</td>\n",
       "      <td>1</td>\n",
       "    </tr>\n",
       "    <tr>\n",
       "      <th>...</th>\n",
       "      <td>...</td>\n",
       "      <td>...</td>\n",
       "    </tr>\n",
       "    <tr>\n",
       "      <th>1411</th>\n",
       "      <td>contentFollow</td>\n",
       "      <td>1</td>\n",
       "    </tr>\n",
       "    <tr>\n",
       "      <th>1412</th>\n",
       "      <td>daily</td>\n",
       "      <td>1</td>\n",
       "    </tr>\n",
       "    <tr>\n",
       "      <th>1413</th>\n",
       "      <td>dose</td>\n",
       "      <td>1</td>\n",
       "    </tr>\n",
       "    <tr>\n",
       "      <th>1414</th>\n",
       "      <td>indiansreetfoodkurkure</td>\n",
       "      <td>1</td>\n",
       "    </tr>\n",
       "    <tr>\n",
       "      <th>1415</th>\n",
       "      <td>kurkurechaatfeedfeed</td>\n",
       "      <td>1</td>\n",
       "    </tr>\n",
       "  </tbody>\n",
       "</table>\n",
       "<p>1416 rows × 2 columns</p>\n",
       "</div>"
      ],
      "text/plain": [
       "                        Word  Frequency\n",
       "0                         My          2\n",
       "1                         no          6\n",
       "2                      onion          4\n",
       "3                     garlic          9\n",
       "4                      Quick          1\n",
       "...                      ...        ...\n",
       "1411           contentFollow          1\n",
       "1412                   daily          1\n",
       "1413                    dose          1\n",
       "1414  indiansreetfoodkurkure          1\n",
       "1415    kurkurechaatfeedfeed          1\n",
       "\n",
       "[1416 rows x 2 columns]"
      ]
     },
     "execution_count": 13,
     "metadata": {},
     "output_type": "execute_result"
    }
   ],
   "source": [
    "w"
   ]
  },
  {
   "cell_type": "markdown",
   "metadata": {},
   "source": [
    "## 2.4. Hashtags that were most popular among the bloggers"
   ]
  },
  {
   "cell_type": "code",
   "execution_count": 14,
   "metadata": {},
   "outputs": [
    {
     "data": {
      "text/plain": [
       "[('#foodporn', 34),\n",
       " ('#foodie', 24),\n",
       " ('#food', 23),\n",
       " ('#foodstagram', 16),\n",
       " ('#eeeeeats', 14),\n",
       " ('#yummy', 13),\n",
       " ('#foodpics', 13),\n",
       " ('#f52grams', 11),\n",
       " ('#feedfeed', 11),\n",
       " ('#mumbaifoodie', 10),\n",
       " ('#love', 10),\n",
       " ('#instagram', 10),\n",
       " ('#mumbaifoodblogger', 10),\n",
       " ('#foodfirstalways', 10),\n",
       " ('#foodiesofinstagram', 9),\n",
       " ('#dilsefoodie', 9),\n",
       " ('#foodphotography', 9),\n",
       " ('#igers', 9),\n",
       " ('#mumbai', 9),\n",
       " ('#foodlove', 9),\n",
       " ('#drools', 9),\n",
       " ('#foodgasm', 9),\n",
       " ('#delicious', 9),\n",
       " ('#bestoftheday', 9),\n",
       " ('#hungry', 9),\n",
       " ('#nomnom', 9),\n",
       " ('#sogood', 9),\n",
       " ('#beautiful', 9),\n",
       " ('#instalike', 9),\n",
       " ('#sanjyotkeer', 8),\n",
       " ('#foodrecipes', 8),\n",
       " ('#streetfood', 7),\n",
       " ('@sanjyotkeer', 6),\n",
       " ('#recipe', 6),\n",
       " ('#comfortfood', 6),\n",
       " ('#eat', 6),\n",
       " ('#tasty', 5),\n",
       " ('#lovefood', 5),\n",
       " ('#pastalover', 5),\n",
       " ('@food_first_always', 5),\n",
       " ('#recipeoftheday', 4),\n",
       " ('@jadeforestin', 4),\n",
       " ('@Food', 4),\n",
       " ('#buzzfeast', 4),\n",
       " ('#yum', 4),\n",
       " ('#feedyoursoul', 4),\n",
       " ('#9gag', 4),\n",
       " ('#lunch', 4),\n",
       " ('#cheatmeal', 4),\n",
       " ('#pescatarian', 4),\n",
       " ('#cheatday', 4),\n",
       " ('#dinner', 4),\n",
       " ('#complex', 4),\n",
       " ('#recipes', 3),\n",
       " ('@glionhospitalityschool', 3),\n",
       " ('@lesrochesswitzerland', 3),\n",
       " ('#LesRochesConnect', 3),\n",
       " ('#LesRochesWayOfLife', 3),\n",
       " ('#GlionConnect', 3),\n",
       " ('#GlionSpirit', 3),\n",
       " ('#avocado', 3),\n",
       " ('#seafood', 3),\n",
       " ('#shrimp', 3),\n",
       " ('#pasta', 3),\n",
       " ('#foodlover', 2),\n",
       " ('#mumbaistreetfood', 2),\n",
       " ('#mumbaifood', 2),\n",
       " ('#indiancuisine', 2),\n",
       " ('#yourfoodlab', 2),\n",
       " ('#frankie', 2),\n",
       " ('#paneer', 2),\n",
       " ('#ContestAlert', 2),\n",
       " ('@foodtalkindia', 2),\n",
       " ('@namannguptaa', 2),\n",
       " ('#avocadotoast', 2),\n",
       " ('#breakfast', 2),\n",
       " ('#buzzfeedfood', 2),\n",
       " ('#healthyfood', 2),\n",
       " ('#healthyeating', 2),\n",
       " ('#vegan', 2),\n",
       " ('#veganrecipes', 2),\n",
       " ('#veganfood', 2),\n",
       " ('#eathealthy', 2),\n",
       " ('@sculptedkitchen', 2),\n",
       " ('@food', 2),\n",
       " ('#beautifulcuisines', 2),\n",
       " ('#fatlossgoals', 2),\n",
       " ('#fatlossfood', 2),\n",
       " ('#caloriesincaloriesout', 2),\n",
       " ('#loseweightforgood', 2),\n",
       " ('#fatlossdiet', 2),\n",
       " ('#fatlossplan', 2),\n",
       " ('#calorieburn', 2),\n",
       " ('#losefatfast', 2),\n",
       " ('#weighlossmotivation', 2),\n",
       " ('#fatlossprogram', 2),\n",
       " ('#fatlossprogress', 2),\n",
       " ('#caloriecounter', 2),\n",
       " ('#weighlosssupport', 2),\n",
       " ('#losefatgainmuscle', 2),\n",
       " ('#fatlossworkout', 2),\n",
       " ('#loseweightfeelgreat', 2),\n",
       " ('#caloriecount', 2),\n",
       " ('#weighlossgoals', 2),\n",
       " ('#losefats', 2),\n",
       " ('#caloriecontrol', 2),\n",
       " ('#follow', 2),\n",
       " ('#pulao', 1),\n",
       " ('#brightwin', 1),\n",
       " ('#rice', 1),\n",
       " ('#dosa', 1),\n",
       " ('#dosalover', 1),\n",
       " ('#indianclicks', 1),\n",
       " ('#streetphotography', 1),\n",
       " ('#navratri', 1),\n",
       " ('#noonionnogarlic', 1),\n",
       " ('#rolls', 1),\n",
       " ('#streetstyle', 1),\n",
       " ('#yummyfood', 1),\n",
       " ('#noodles', 1),\n",
       " ('#noodle', 1),\n",
       " ('#reelsinstagram', 1),\n",
       " ('#pizza', 1),\n",
       " ('#pizzalover', 1),\n",
       " ('#pizzapizzapizza', 1),\n",
       " ('#pizzatime', 1),\n",
       " ('#paneerlove', 1),\n",
       " ('#sanjyot', 1),\n",
       " ('#cake', 1),\n",
       " ('#cakesofinstagram', 1),\n",
       " ('#cakestagram', 1),\n",
       " ('#cakedecorating', 1),\n",
       " ('#cakecakecake', 1),\n",
       " ('#cakedesigner', 1),\n",
       " ('#almond', 1),\n",
       " ('#almondcake', 1),\n",
       " ('#teatimesnacks', 1),\n",
       " ('#tealovers', 1),\n",
       " ('#mumbai_ig', 1),\n",
       " ('#bhuna', 1),\n",
       " ('@pavneetsachdeva', 1),\n",
       " ('#dugdugdug', 1),\n",
       " ('#Dad', 1),\n",
       " ('#Love', 1),\n",
       " ('@donergyrosindia', 1),\n",
       " ('#PhoenixMarketcityBombay', 1),\n",
       " ('#OreoReciPic', 1),\n",
       " ('@Oreo.India', 1),\n",
       " ('#Oreo', 1),\n",
       " ('#RecipeContest', 1),\n",
       " ('#Contestgram', 1),\n",
       " ('#Contestgiveaway', 1),\n",
       " ('#Competition', 1),\n",
       " ('#Participate', 1),\n",
       " ('#India', 1),\n",
       " ('@dilsefoodie', 1),\n",
       " ('@oreo.india', 1),\n",
       " ('@sharmajikichotibeti', 1),\n",
       " ('@im_shubh12', 1),\n",
       " ('#dad', 1),\n",
       " ('#forever', 1),\n",
       " ('@chatpati_shikha', 1),\n",
       " ('#superwoman', 1),\n",
       " ('#GiveawayAlert', 1),\n",
       " ('@nehakar22', 1),\n",
       " ('@anjali__batra', 1),\n",
       " ('@eatdirtygood', 1),\n",
       " ('@viva019', 1),\n",
       " ('@lavee.023', 1),\n",
       " ('@raanuu.21', 1),\n",
       " ('@harleen19', 1),\n",
       " ('@hargun25', 1),\n",
       " ('@shagunpops', 1),\n",
       " ('@amitkrbidhuri', 1),\n",
       " ('@kketann_rohilla', 1),\n",
       " ('@tejas.mehta', 1),\n",
       " ('@pragun_khanduja', 1),\n",
       " ('@vishal_sattarapu', 1),\n",
       " ('@ticklegin', 1),\n",
       " ('@ahoppygirl', 1),\n",
       " ('@sachinmendon87', 1),\n",
       " ('@anandghodke', 1),\n",
       " ('@sahilsuneja09', 1),\n",
       " ('@swarith', 1),\n",
       " ('@sharvibhujbal7', 1),\n",
       " ('@jayzt', 1),\n",
       " ('@socialcrunchmumbai', 1),\n",
       " ('@mommy_n_rivaan', 1),\n",
       " ('@mominthebay', 1),\n",
       " ('@mommy_to_lil_adi', 1),\n",
       " ('@aamirrsidd', 1),\n",
       " ('@sadafahmad44', 1),\n",
       " ('@amaan.mohd', 1),\n",
       " ('@vinitisareen', 1),\n",
       " ('@sudhigupta94', 1),\n",
       " ('@nidhimasareen', 1),\n",
       " ('@_siddhijain_', 1),\n",
       " ('@yoginijhingan', 1),\n",
       " ('@og_aditi', 1),\n",
       " ('@megha.dahiya', 1),\n",
       " ('@dhwani0017', 1),\n",
       " ('@shradhasahney', 1),\n",
       " ('@imli_ati_aier', 1),\n",
       " ('@nobosky', 1),\n",
       " ('@shwagatanova', 1),\n",
       " ('#NewInTown', 1),\n",
       " ('@khhetofficial', 1),\n",
       " ('#WorldEggDay', 1),\n",
       " ('@wearebrightland', 1),\n",
       " ('#healthylifestyle', 1),\n",
       " ('@upbeetandkaleingit', 1),\n",
       " ('#Vegan', 1),\n",
       " ('@fitonomykitchen', 1),\n",
       " ('@eatwithclarity', 1),\n",
       " ('@vegansnacksrecipes', 1),\n",
       " ('#Pasta', 1),\n",
       " ('#rigatoni', 1),\n",
       " ('#eatright', 1),\n",
       " ('#healthylunch', 1),\n",
       " ('#eatingfortheinsta', 1),\n",
       " ('#healthyfamily', 1),\n",
       " ('#healthyliving', 1),\n",
       " ('#veganlife', 1),\n",
       " ('#pastalovers', 1),\n",
       " ('#organicfood', 1),\n",
       " ('#fig', 1),\n",
       " ('#fruits', 1),\n",
       " ('#snack', 1),\n",
       " ('#toasts', 1),\n",
       " ('#plantbasedfood', 1),\n",
       " ('#thrivemags', 1),\n",
       " ('#eattherainbow', 1),\n",
       " ('#bestofvegan', 1),\n",
       " ('#veganfoodshare', 1),\n",
       " ('#veganworldshare', 1),\n",
       " ('#gloobyfood', 1),\n",
       " ('#breakfastinspo', 1),\n",
       " ('#veganbreakfast', 1),\n",
       " ('#figtoast', 1),\n",
       " ('@paleorunningmomma', 1),\n",
       " ('#healthydinner', 1),\n",
       " ('#whole30recipes', 1),\n",
       " ('#butternutsquash', 1),\n",
       " ('#paleo', 1),\n",
       " ('#glutenfree', 1),\n",
       " ('#todayfood', 1),\n",
       " ('#cleaneats', 1),\n",
       " ('#cleaneating', 1),\n",
       " ('#foodblogeats', 1),\n",
       " ('#tastespotting', 1),\n",
       " ('#thekitchn', 1),\n",
       " ('#foodblogfeed', 1),\n",
       " ('#tastingtable', 1),\n",
       " ('#paleorecipes', 1),\n",
       " ('#glutenfreerecipes', 1),\n",
       " ('#paleofood', 1),\n",
       " ('#momlife', 1),\n",
       " ('@the_roamingfoodie', 1),\n",
       " ('#gnocchi', 1),\n",
       " ('@food_with_george', 1),\n",
       " ('#Breakfast', 1),\n",
       " ('@fashioninmysoul', 1),\n",
       " ('@glamour_apartments_milan', 1),\n",
       " ('#foodwithaview', 1),\n",
       " ('#lifestyle', 1),\n",
       " ('#goodmorning', 1),\n",
       " ('#health', 1),\n",
       " ('#diet', 1),\n",
       " ('#goodfood', 1),\n",
       " ('#eggsbenedict', 1),\n",
       " ('#eggsandwich', 1),\n",
       " ('#foodblogger', 1),\n",
       " ('#travelgoals', 1),\n",
       " ('#travel', 1),\n",
       " ('#views', 1),\n",
       " ('@dennistheprescott', 1),\n",
       " ('#loseweightnaturally', 1),\n",
       " ('#ragdapattice', 1),\n",
       " ('#chaatlover', 1),\n",
       " ('#foodfirst', 1),\n",
       " ('#indianstreetfood', 1),\n",
       " ('#quarantinelife', 1),\n",
       " ('@copperchimney_in', 1),\n",
       " ('#copperchimney', 1),\n",
       " ('#northindianfood', 1),\n",
       " ('#paneertikka', 1),\n",
       " ('#idli', 1),\n",
       " ('#idlisambhar', 1),\n",
       " ('#golgappe', 1),\n",
       " ('#panipuri', 1),\n",
       " ('@leepee_joshi', 1),\n",
       " ('#salad', 1),\n",
       " ('#watermelonsalad', 1),\n",
       " ('#redsaucepasta', 1),\n",
       " ('#IndianStreetFoodSeries', 1),\n",
       " ('#cheesepastaroll', 1),\n",
       " ('#cheesegarlicbread', 1),\n",
       " ('#cheese', 1),\n",
       " ('#indiansreetfood', 1),\n",
       " ('#kurkure', 1),\n",
       " ('#kurkurechaat', 1)]"
      ]
     },
     "execution_count": 14,
     "metadata": {},
     "output_type": "execute_result"
    }
   ],
   "source": [
    "sorted_hashtag_dict=sorted(hashtag_dict.items(),key=lambda x:x[1],reverse=True)\n",
    "sorted_hashtag_dict"
   ]
  },
  {
   "cell_type": "code",
   "execution_count": 15,
   "metadata": {},
   "outputs": [
    {
     "data": {
      "text/plain": [
       "[('#foodporn', 34),\n",
       " ('#foodie', 24),\n",
       " ('#food', 23),\n",
       " ('#foodstagram', 16),\n",
       " ('#eeeeeats', 14)]"
      ]
     },
     "execution_count": 15,
     "metadata": {},
     "output_type": "execute_result"
    }
   ],
   "source": [
    "top_5_hashtags=sorted_hashtag_dict[:5]\n",
    "top_5_hashtags"
   ]
  },
  {
   "cell_type": "markdown",
   "metadata": {},
   "source": [
    "\n",
    "## 2.5. Plot a Pie Chart of the top 5 hashtags obtained and the number of times they were used by these bloggers in the scraped posts"
   ]
  },
  {
   "cell_type": "code",
   "execution_count": 79,
   "metadata": {},
   "outputs": [
    {
     "data": {
      "image/png": "[encoded data removed]",
      "text/plain": [
       "<Figure size 576x576 with 1 Axes>"
      ]
     },
     "metadata": {},
     "output_type": "display_data"
    }
   ],
   "source": [
    "import numpy as np\n",
    "x=[x[0] for x in top_5_hashtags]\n",
    "y=[x[1] for x in top_5_hashtags]\n",
    "plt.figure(figsize=(8, 8))\n",
    "labels=[]\n",
    "for i in range(5):\n",
    "    labels.append([x[i],y[i]])\n",
    "plt.pie(y, labels=labels, labeldistance=1.1)\n",
    "plt.title('Pie Chart of the top 5 hashtags',size=12)\n",
    "plt.show()"
   ]
  },
  {
   "cell_type": "code",
   "execution_count": 78,
   "metadata": {},
   "outputs": [
    {
     "data": {
      "image/png": "[encoded data removed]",
      "text/plain": [
       "<Figure size 576x576 with 1 Axes>"
      ]
     },
     "metadata": {},
     "output_type": "display_data"
    }
   ],
   "source": [
    "##pie chart with name of the hashtag and the percentage of frequency depicted\n",
    "import numpy as np\n",
    "x=[x[0] for x in top_5_hashtags]\n",
    "y=[x[1] for x in top_5_hashtags]\n",
    "plt.figure(figsize=(8, 8))\n",
    "plt.pie(y, labels=x, autopct = '%.2f%%', labeldistance=1.1)\n",
    "plt.title('Pie Chart of the top 5 hashtags',size=12)\n",
    "plt.show()"
   ]
  },
  {
   "cell_type": "markdown",
   "metadata": {},
   "source": [
    "## 3.1 Find out the likes of the top 10 posts of the 5 handles obtained earlier."
   ]
  },
  {
   "cell_type": "code",
   "execution_count": 37,
   "metadata": {},
   "outputs": [
    {
     "name": "stdout",
     "output_type": "stream",
     "text": [
      "https://www.instagram.com/yourfoodlab\n",
      "A total of  1035831 likes on 10 latest posts\n",
      "https://www.instagram.com/dilsefoodie\n",
      "A total of  929201 likes on 10 latest posts\n",
      "https://www.instagram.com/foodtalkindia\n",
      "A total of  25876 likes on 10 latest posts\n",
      "https://www.instagram.com/food\n",
      "A total of  28274 likes on 10 latest posts\n",
      "https://www.instagram.com/food_first_always\n",
      "A total of  4541 likes on 10 latest posts\n"
     ]
    }
   ],
   "source": [
    "likes_list=[]\n",
    "for handle in top_5:\n",
    "    url=\"https://www.instagram.com/\"+ handle[0]\n",
    "    print(url)\n",
    "    driver.execute_script('window.open(arguments[0]);',url)\n",
    "    windows=driver.window_handles\n",
    "    base_window=driver.current_window_handle\n",
    "    driver.switch_to.window(windows[1])\n",
    "    count=0\n",
    "    likes=0\n",
    "    for i in driver.find_elements_by_xpath('//div[@class=\"_9AhH0\"]'):\n",
    "        driver.execute_script(\"arguments[0].click();\", i)\n",
    "        try:\n",
    "            WebDriverWait(driver, 10).until(EC.presence_of_element_located((By.XPATH, '//div[@class=\"Nm9Fw\"]/button[contains(@class, \"sqdOP\")]/span')))\n",
    "            like_str=driver.find_element_by_xpath('//div[@class=\"Nm9Fw\"]/button[contains(@class, \"sqdOP\")]/span').get_attribute('innerHTML')\n",
    "            try:\n",
    "                likes+=int((like_str).replace(\",\",\"\"))\n",
    "            except AttributeError:\n",
    "                likes+=int(like_str)\n",
    "        except TimeoutException:\n",
    "            WebDriverWait(driver, 5).until(EC.presence_of_element_located((By.XPATH, '//div[contains(@class, \"HbPOm\")]/span[contains(@class, \"vcOH2\")]/span')))\n",
    "            like_str=driver.find_element_by_xpath('//div[contains(@class, \"HbPOm\")]/span[contains(@class, \"vcOH2\")]/span').get_attribute('innerHTML')\n",
    "            try:\n",
    "                likes+=int((like_str).replace(\",\",\"\"))\n",
    "            except AttributeError:\n",
    "                likes+=int(like_str)\n",
    "        count+=1\n",
    "        if count>=10:\n",
    "            driver.find_element_by_xpath(\"//div[contains(@class,'CkGkG')]/div[contains(@class,'Igw0E')]/button\").click()\n",
    "            break\n",
    "        time.sleep(1)\n",
    "    print(\"A total of \", likes, \"likes on 10 latest posts\")\n",
    "    likes_list.append(likes)\n",
    "    time.sleep(1)\n",
    "    driver.execute_script('window.close();')\n",
    "    driver.switch_to.window(base_window)"
   ]
  },
  {
   "cell_type": "markdown",
   "metadata": {},
   "source": [
    "## 3.2 Calculating the average likes for each handle"
   ]
  },
  {
   "cell_type": "code",
   "execution_count": 41,
   "metadata": {},
   "outputs": [
    {
     "data": {
      "text/plain": [
       "array([1035831,  929201,   25876,   28274,    4541])"
      ]
     },
     "execution_count": 41,
     "metadata": {},
     "output_type": "execute_result"
    }
   ],
   "source": [
    "likes_list=np.array(likes_list)\n",
    "likes_list"
   ]
  },
  {
   "cell_type": "code",
   "execution_count": 42,
   "metadata": {},
   "outputs": [
    {
     "data": {
      "text/plain": [
       "array([103583.1,  92920.1,   2587.6,   2827.4,    454.1])"
      ]
     },
     "execution_count": 42,
     "metadata": {},
     "output_type": "execute_result"
    }
   ],
   "source": [
    "avg_likes=likes_list/10\n",
    "avg_likes"
   ]
  },
  {
   "cell_type": "code",
   "execution_count": 46,
   "metadata": {},
   "outputs": [
    {
     "data": {
      "text/plain": [
       "[('yourfoodlab', 1427207),\n",
       " ('dilsefoodie', 630576),\n",
       " ('foodtalkindia', 302524),\n",
       " ('food', 84453),\n",
       " ('food_first_always', 29661)]"
      ]
     },
     "execution_count": 46,
     "metadata": {},
     "output_type": "execute_result"
    }
   ],
   "source": [
    "top_5"
   ]
  },
  {
   "cell_type": "markdown",
   "metadata": {},
   "source": [
    "## 3.3 Divide the average likes obtained from the number of followers of the handle to get the average followers:like ratio of each handle."
   ]
  },
  {
   "cell_type": "code",
   "execution_count": 50,
   "metadata": {},
   "outputs": [],
   "source": [
    "#for getting average followers to likes ratio\n",
    "like_ratio=[]\n",
    "for i in range(5):\n",
    "    ratio=top_5[i][1]/avg_likes[i]\n",
    "    like_ratio.append([top_5[i][0],ratio])\n"
   ]
  },
  {
   "cell_type": "code",
   "execution_count": 52,
   "metadata": {},
   "outputs": [
    {
     "data": {
      "text/plain": [
       "[['yourfoodlab', 13.778376974622308],\n",
       " ['dilsefoodie', 6.786217406137101],\n",
       " ['foodtalkindia', 116.91296954707065],\n",
       " ['food', 29.869491405531583],\n",
       " ['food_first_always', 65.31821184761066]]"
      ]
     },
     "execution_count": 52,
     "metadata": {},
     "output_type": "execute_result"
    }
   ],
   "source": [
    "like_ratio"
   ]
  },
  {
   "cell_type": "markdown",
   "metadata": {},
   "source": [
    "## 3.4 Create a bar graph to depict the above obtained information."
   ]
  },
  {
   "cell_type": "code",
   "execution_count": 57,
   "metadata": {},
   "outputs": [
    {
     "data": {
      "image/png": "[encoded data removed]",
      "text/plain": [
       "<Figure size 720x504 with 1 Axes>"
      ]
     },
     "metadata": {
      "needs_background": "light"
     },
     "output_type": "display_data"
    }
   ],
   "source": [
    "#plotting the graph between average followers to likes ratio and users.\n",
    "plt.figure(figsize=(10,7))\n",
    "plt.bar([x[0] for x in like_ratio],[x[1] for x in like_ratio], color='green')\n",
    "plt.xticks(rotation=45, size=12)\n",
    "plt.xlabel('Users->', size=13)\n",
    "plt.ylabel('Average followers to likes ratio->', size=13)\n",
    "plt.yticks(size=12)\n",
    "plt.grid()\n",
    "plt.show()"
   ]
  },
  {
   "cell_type": "code",
   "execution_count": null,
   "metadata": {},
   "outputs": [],
   "source": []
  },
  {
   "cell_type": "code",
   "execution_count": null,
   "metadata": {},
   "outputs": [],
   "source": []
  }
 ],
 "metadata": {
  "kernelspec": {
   "display_name": "Python 3",
   "language": "python",
   "name": "python3"
  },
  "language_info": {
   "codemirror_mode": {
    "name": "ipython",
    "version": 3
   },
   "file_extension": ".py",
   "mimetype": "text/x-python",
   "name": "python",
   "nbconvert_exporter": "python",
   "pygments_lexer": "ipython3",
   "version": "3.7.6"
  }
 },
 "nbformat": 4,
 "nbformat_minor": 4
}
