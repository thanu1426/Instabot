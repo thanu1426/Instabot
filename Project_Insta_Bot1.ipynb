{
 "cells": [
  {
   "cell_type": "markdown",
   "metadata": {},
   "source": [
    "## Importing Libraries"
   ]
  },
  {
   "cell_type": "code",
   "execution_count": 1,
   "metadata": {},
   "outputs": [],
   "source": [
    "from selenium import webdriver\n",
    "from selenium.webdriver.common.keys import Keys\n",
    "import time\n",
    "from selenium.common.exceptions import NoSuchElementException\n",
    "from selenium.common.exceptions import StaleElementReferenceException\n",
    "from selenium.common.exceptions import TimeoutException\n",
    "from selenium.webdriver.support.ui import WebDriverWait\n",
    "from selenium.webdriver.support import expected_conditions as EC\n",
    "from selenium.webdriver.common.by import By\n",
    "from selenium.webdriver.support.select import Select"
   ]
  },
  {
   "cell_type": "code",
   "execution_count": null,
   "metadata": {},
   "outputs": [],
   "source": []
  },
  {
   "cell_type": "markdown",
   "metadata": {},
   "source": [
    "## To start Chrome Web Driver"
   ]
  },
  {
   "cell_type": "code",
   "execution_count": 2,
   "metadata": {},
   "outputs": [],
   "source": [
    "driver=webdriver.Chrome(executable_path='/Users/download/chromedriver')"
   ]
  },
  {
   "cell_type": "markdown",
   "metadata": {},
   "source": [
    "## Open Instagram"
   ]
  },
  {
   "cell_type": "code",
   "execution_count": 3,
   "metadata": {},
   "outputs": [],
   "source": [
    "driver.get(\"https://www.instagram.com/\")\n",
    "driver.maximize_window()\n",
    "wait_time=WebDriverWait(driver,10).until(EC.presence_of_element_located((By.XPATH, \"//div[contains(@class,'eGOV_')]\")))"
   ]
  },
  {
   "cell_type": "code",
   "execution_count": null,
   "metadata": {},
   "outputs": [],
   "source": []
  },
  {
   "cell_type": "markdown",
   "metadata": {},
   "source": [
    "##  1 . Credentials"
   ]
  },
  {
   "cell_type": "code",
   "execution_count": 4,
   "metadata": {},
   "outputs": [
    {
     "ename": "NameError",
     "evalue": "name 'SAMPLE_USERNAME' is not defined",
     "output_type": "error",
     "traceback": [
      "\u001b[1;31m---------------------------------------------------------------------------\u001b[0m",
      "\u001b[1;31mNameError\u001b[0m                                 Traceback (most recent call last)",
      "\u001b[1;32m<ipython-input-4-72b356954a16>\u001b[0m in \u001b[0;36m<module>\u001b[1;34m\u001b[0m\n\u001b[1;32m----> 1\u001b[1;33m \u001b[0msample_username\u001b[0m\u001b[1;33m=\u001b[0m\u001b[0mSAMPLE_USERNAME\u001b[0m\u001b[1;33m\u001b[0m\u001b[1;33m\u001b[0m\u001b[0m\n\u001b[0m\u001b[0;32m      2\u001b[0m \u001b[0msample_password\u001b[0m\u001b[1;33m=\u001b[0m\u001b[0mSAMPLE_PASSWORD\u001b[0m\u001b[1;33m\u001b[0m\u001b[1;33m\u001b[0m\u001b[0m\n\u001b[0;32m      3\u001b[0m \u001b[1;33m\u001b[0m\u001b[0m\n\u001b[0;32m      4\u001b[0m \u001b[0musername_box\u001b[0m\u001b[1;33m=\u001b[0m\u001b[0mdriver\u001b[0m\u001b[1;33m.\u001b[0m\u001b[0mfind_element_by_name\u001b[0m\u001b[1;33m(\u001b[0m\u001b[1;34m'username'\u001b[0m\u001b[1;33m)\u001b[0m\u001b[1;33m\u001b[0m\u001b[1;33m\u001b[0m\u001b[0m\n\u001b[0;32m      5\u001b[0m \u001b[0musername_box\u001b[0m\u001b[1;33m.\u001b[0m\u001b[0msend_keys\u001b[0m\u001b[1;33m(\u001b[0m\u001b[0msample_username\u001b[0m\u001b[1;33m)\u001b[0m\u001b[1;33m\u001b[0m\u001b[1;33m\u001b[0m\u001b[0m\n",
      "\u001b[1;31mNameError\u001b[0m: name 'SAMPLE_USERNAME' is not defined"
     ]
    }
   ],
   "source": [
    "sample_username=SAMPLE_USERNAME\n",
    "sample_password=SAMPLE_PASSWORD\n",
    "\n",
    "username_box=driver.find_element_by_name('username')\n",
    "username_box.send_keys(sample_username)\n",
    "password_box=driver.find_element_by_name('password')\n",
    "password_box.send_keys(sample_password)\n",
    "driver.find_element_by_xpath(\"//button[contains(@class, 'L3NKy')]/div\").click()\n",
    "waiter=WebDriverWait(driver,10).until(EC.presence_of_element_located((By.CLASS_NAME,\"cmbtv\")))"
   ]
  },
  {
   "cell_type": "markdown",
   "metadata": {},
   "source": [
    "## Suppressing \"Remember Login Info\" and \"Turn On Notifications\" Popup"
   ]
  },
  {
   "cell_type": "code",
   "execution_count": null,
   "metadata": {},
   "outputs": [],
   "source": [
    "driver.find_element_by_class_name(\"cmbtv\").click()\n",
    "waiter=WebDriverWait(driver,10).until(EC.presence_of_element_located((By.XPATH,\"//button[contains(@class, 'HoLwm')]\")))"
   ]
  },
  {
   "cell_type": "code",
   "execution_count": null,
   "metadata": {},
   "outputs": [],
   "source": [
    "driver.find_element_by_xpath(\"//button[contains(@class, 'HoLwm')]\").click()\n",
    "waiter=WebDriverWait(driver,10).until(EC.presence_of_element_located((By.XPATH,\"//div[contains(@class,'LWmhU')]/input\")))"
   ]
  },
  {
   "cell_type": "code",
   "execution_count": null,
   "metadata": {},
   "outputs": [],
   "source": []
  },
  {
   "cell_type": "code",
   "execution_count": null,
   "metadata": {},
   "outputs": [],
   "source": []
  },
  {
   "cell_type": "markdown",
   "metadata": {},
   "source": [
    "## 2. Type \"Food\" in the search bar"
   ]
  },
  {
   "cell_type": "code",
   "execution_count": null,
   "metadata": {},
   "outputs": [],
   "source": [
    "\n",
    "search_box=driver.find_element_by_xpath(\"//div[contains(@class,'LWmhU')]/input\")\n",
    "search_box.send_keys('food')\n",
    "waiter=WebDriverWait(driver,10).until(EC.presence_of_element_located((By.XPATH,\"//a[contains(@class,'yCE8d')]/div/div[2]/div/span\")))\n",
    "\n",
    "\n",
    "##printing all the names of instagram handles\n",
    "for i in driver.find_elements_by_xpath('//a[contains(@class,\"yCE8d\")]/div/div[2]/div/span'):\n",
    "    print(i.get_attribute('innerHTML'))\n",
    "waiter=WebDriverWait(driver,10).until(EC.presence_of_element_located((By.XPATH,\"//div[contains(@class,'LWmhU')]/div[contains(@class,'coreSpriteSearchClear')]\"))) "
   ]
  },
  {
   "cell_type": "code",
   "execution_count": null,
   "metadata": {},
   "outputs": [],
   "source": [
    "#clearing input\n",
    "driver.find_element_by_xpath(\"//div[contains(@class,'LWmhU')]/div[contains(@class,'coreSpriteSearchClear')]\").click()\n",
    "waiter=WebDriverWait(driver,10).until(EC.presence_of_element_located((By.XPATH,\"//div[contains(@class,'LWmhU')]/input\")))\n"
   ]
  },
  {
   "cell_type": "markdown",
   "metadata": {},
   "source": [
    "## 3 . Searching and Opening a Profile"
   ]
  },
  {
   "cell_type": "code",
   "execution_count": null,
   "metadata": {},
   "outputs": [],
   "source": [
    "search_box=driver.find_element_by_xpath(\"//div[contains(@class,'LWmhU')]/input\")\n",
    "search_box.send_keys('So Delhi')\n",
    "waiter=WebDriverWait(driver,10).until(EC.presence_of_element_located((By.XPATH,\"//a[contains(@class,'yCE8d')]\")))"
   ]
  },
  {
   "cell_type": "code",
   "execution_count": null,
   "metadata": {},
   "outputs": [],
   "source": [
    "driver.find_element_by_xpath('//a[contains(@class,\"yCE8d\")]').click()\n",
    "waiter=WebDriverWait(driver, 10).until(EC.presence_of_element_located((By.XPATH, \"//button[contains(@class,'_6VtSN')]\")))"
   ]
  },
  {
   "cell_type": "markdown",
   "metadata": {},
   "source": [
    "## 4. Following/Unfollowing the Handle\n"
   ]
  },
  {
   "cell_type": "code",
   "execution_count": null,
   "metadata": {},
   "outputs": [],
   "source": [
    "#Following the page\n",
    "if driver.find_element_by_xpath(\"//button[contains(@class,'_6VtSN')]\").get_attribute('innerHTML')=='Follow':\n",
    "    driver.find_element_by_xpath(\"//button[contains(@class,'_6VtSN')]\").click()\n",
    "else:\n",
    "    print(\"You are already following the page!\")\n",
    "time.sleep(2)\n",
    "waiter=WebDriverWait(driver, 10).until(EC.presence_of_element_located((By.XPATH, \"//button[contains(@class,'_6VtSN')]\")))"
   ]
  },
  {
   "cell_type": "code",
   "execution_count": null,
   "metadata": {},
   "outputs": [],
   "source": [
    "#Unfollowing the page\n",
    "if driver.find_element_by_xpath(\"//button[contains(@class,'_6VtSN')]\").get_attribute('innerHTML')=='Follow':\n",
    "    print(\"You are already unfollowing the page!\")\n",
    "else:\n",
    "    driver.find_element_by_xpath(\"//button[contains(@class,'_6VtSN')]\").click()\n",
    "    time.sleep(2)\n",
    "    waiter=WebDriverWait(driver, 10).until(EC.presence_of_element_located((By.XPATH, \"//div[contains(@class,'LWmhU')]/input\")))\n",
    "    driver.find_element_by_xpath(\"//div[contains(@class,'mt3GC')]/button[contains(@class,'-Cab_')]\").click()\n",
    "    time.sleep(2)"
   ]
  },
  {
   "cell_type": "markdown",
   "metadata": {},
   "source": [
    "## 5. To Like/Unlike 30 posts of dilsefoodie"
   ]
  },
  {
   "cell_type": "code",
   "execution_count": null,
   "metadata": {},
   "outputs": [],
   "source": [
    "# searching for the profile\n",
    "search_box=driver.find_element_by_xpath(\"//div[contains(@class,'LWmhU')]/input\")\n",
    "search_box.send_keys('dilsefoodie')\n",
    "waiter=WebDriverWait(driver, 10).until(EC.presence_of_element_located((By.XPATH, \"//div[contains(@class,'fuqBx')]/a[contains(@class,'yCE8d')]\")))\n",
    "\n",
    "##to open the profile\n",
    "driver.find_element_by_xpath(\"//a[contains(@class,'yCE8d')]\").click()\n",
    "time.sleep(5)\n",
    "\n",
    "#scrolling manually to load the posts\n",
    "driver.execute_script('window.scrollBy(0,1000);')\n",
    "time.sleep(2)\n",
    "driver.execute_script('window.scrollBy(0,1000);')\n",
    "time.sleep(2)\n",
    "waiter=WebDriverWait(driver, 10).until(EC.presence_of_element_located((By.XPATH, '//div[contains(@class, \"Nnq7C\")]/div/a/div[1]')))\n",
    "\n",
    "\n",
    "#liking 30 posts\n",
    "count=0\n",
    "for i in driver.find_elements_by_xpath('//div[contains(@class, \"Nnq7C\")]/div/a/div[1]'):\n",
    "    i.click()\n",
    "    waiter=WebDriverWait(driver, 10).until(EC.presence_of_element_located((By.XPATH,\"//div[contains(@class,'eo2As ')]/section/span/button/div/span//*[name()='svg']\")))\n",
    "    attr=driver.find_element_by_xpath(\"//div[contains(@class,'eo2As ')]/section/span/button/div/span//*[name()='svg']\")\n",
    "    if(attr.get_attribute(\"aria-label\")=='Like'):\n",
    "        driver.find_element_by_xpath(\"//div[contains(@class,'eo2As ')]/section/span/button\").click()\n",
    "    else:\n",
    "        print(\"Already Liked!\")\n",
    "    driver.find_element_by_xpath(\"//div[contains(@class,'CkGkG')]/div[contains(@class,'Igw0E')]/button\").click()\n",
    "    count+=1\n",
    "    if count==30:\n",
    "        print(\"All 30 posts liked\")\n",
    "        break\n",
    "        \n",
    "        \n",
    "#unliking 30 posts\n",
    "count=0\n",
    "for i in driver.find_elements_by_xpath('//div[contains(@class, \"Nnq7C\")]/div/a/div[1]'):\n",
    "    i.click()\n",
    "    waiter=WebDriverWait(driver, 10).until(EC.presence_of_element_located((By.XPATH,\"//div[contains(@class,'eo2As ')]/section/span/button/div/span//*[name()='svg']\")))\n",
    "    attr=driver.find_element_by_xpath(\"//div[contains(@class,'eo2As ')]/section/span/button/div/span//*[name()='svg']\")\n",
    "    if(attr.get_attribute(\"aria-label\")=='Unlike'):\n",
    "        driver.find_element_by_xpath(\"//div[contains(@class,'eo2As ')]/section/span/button\").click()\n",
    "    else:\n",
    "        print(\"Already Unliked!\")\n",
    "    driver.find_element_by_xpath(\"//div[contains(@class,'CkGkG')]/div[contains(@class,'Igw0E')]/button\").click()\n",
    "    count+=1\n",
    "    if count==30:\n",
    "        print(\"All 30 posts Unliked\")\n",
    "        break"
   ]
  },
  {
   "cell_type": "markdown",
   "metadata": {},
   "source": [
    "## 6.  Extract List of Followers"
   ]
  },
  {
   "cell_type": "code",
   "execution_count": null,
   "metadata": {},
   "outputs": [],
   "source": [
    "#visting SO Delhi\n",
    "search_box=driver.find_element_by_xpath(\"//div[contains(@class,'LWmhU')]/input\")\n",
    "search_box.send_keys('So Delhi')\n",
    "waiter=WebDriverWait(driver,10).until(EC.presence_of_element_located((By.XPATH,\"//a[contains(@class,'yCE8d')]\")))\n",
    "driver.find_element_by_xpath('//a[contains(@class,\"yCE8d\")]').click()"
   ]
  },
  {
   "cell_type": "code",
   "execution_count": null,
   "metadata": {},
   "outputs": [],
   "source": [
    "driver.find_element_by_xpath('//section[@class=\"zwlfE\"]/ul/li/a').click()"
   ]
  },
  {
   "cell_type": "code",
   "execution_count": null,
   "metadata": {},
   "outputs": [],
   "source": [
    "while True:\n",
    "    try:\n",
    "        names_sodelhi=[]\n",
    "        count=0\n",
    "        while True:\n",
    "            elements=driver.find_elements_by_xpath('//a[contains(@class, \"notranslate\")]')\n",
    "            if len(elements)<500:\n",
    "                waiter=WebDriverWait(driver, 10).until(EC.presence_of_element_located((By.XPATH, '//ul[contains(@class, \"jSC57\")]')))\n",
    "                driver.execute_script('arguments[0].scrollIntoView(0, 100);', driver.find_element_by_xpath('//ul[contains(@class, \"jSC57\")]'))\n",
    "                time.sleep(0.8)\n",
    "            i=elements[count]\n",
    "            names_sodelhi.append(i.get_attribute('innerHTML'))\n",
    "            if len(names_sodelhi)==500:\n",
    "                break\n",
    "            count+=1\n",
    "        break\n",
    "    except StaleElementReferenceException:\n",
    "        continue\n",
    "print(names_sodelhi)"
   ]
  },
  {
   "cell_type": "code",
   "execution_count": null,
   "metadata": {},
   "outputs": [],
   "source": [
    "driver.find_element_by_xpath(\"//div[@class='WaOAr']/button\").click()\n",
    "waiter=WebDriverWait(driver,10).until(EC.presence_of_element_located((By.XPATH,\"/div[contains(@class,'LWmhU')]/input\")))"
   ]
  },
  {
   "cell_type": "code",
   "execution_count": null,
   "metadata": {},
   "outputs": [],
   "source": [
    "#visiting foodtalkindia\n",
    "search_box=driver.find_element_by_xpath(\"//div[contains(@class,'LWmhU')]/input\")\n",
    "search_box.send_keys('foodtalkindia')\n",
    "waiter=WebDriverWait(driver,10).until(EC.presence_of_element_located((By.XPATH,\"//a[contains(@class,'yCE8d')]\")))\n",
    "driver.find_element_by_xpath('//a[contains(@class,\"yCE8d\")]').click()\n"
   ]
  },
  {
   "cell_type": "code",
   "execution_count": null,
   "metadata": {},
   "outputs": [],
   "source": [
    "#to find total number of followers\n",
    "total_followers=driver.find_element_by_xpath('//section[@class=\"zwlfE\"]/ul/li/a/span').get_attribute('title')\n",
    "total_followers=int(total_followers.replace(',',\"\"))"
   ]
  },
  {
   "cell_type": "code",
   "execution_count": null,
   "metadata": {},
   "outputs": [],
   "source": [
    "#to get the list of followers\n",
    "driver.find_element_by_xpath('//section[@class=\"zwlfE\"]/ul/li/a').click()"
   ]
  },
  {
   "cell_type": "code",
   "execution_count": null,
   "metadata": {},
   "outputs": [],
   "source": [
    "#extracting 500 followers of foodtalkindia\n",
    "while True:\n",
    "    try:\n",
    "        names_foodtalkindia=[]\n",
    "        count=0\n",
    "        while True:\n",
    "            elements=driver.find_elements_by_xpath('//a[contains(@class, \"notranslate\")]')\n",
    "            if len(elements)<500:\n",
    "                waiter=WebDriverWait(driver, 10).until(EC.presence_of_element_located((By.XPATH, '//ul[contains(@class, \"jSC57\")]')))\n",
    "                driver.execute_script('arguments[0].scrollIntoView(0, 100);', driver.find_element_by_xpath('//ul[contains(@class, \"jSC57\")]'))\n",
    "                time.sleep(0.8)\n",
    "            i=elements[count]\n",
    "            names_foodtalkindia.append(i.get_attribute('innerHTML'))\n",
    "            if len(names_foodtalkindia)==500:\n",
    "                break\n",
    "            count+=1\n",
    "        break\n",
    "    except StaleElementReferenceException:\n",
    "        continue\n",
    "print(names_foodtalkindia)"
   ]
  },
  {
   "cell_type": "markdown",
   "metadata": {},
   "source": [
    "## Printing all the followers of \"foodtalkindia\" that user is following but those who don't follow the user:"
   ]
  },
  {
   "cell_type": "markdown",
   "metadata": {},
   "source": [
    "logic used:\n",
    "(followers of \"foodtalkindia\" that user is following) - (those who don't follow the user:)"
   ]
  },
  {
   "cell_type": "code",
   "execution_count": null,
   "metadata": {},
   "outputs": [],
   "source": [
    "#followers of \"foodtalkindia\" that user follows\n",
    "while True:\n",
    "    try:\n",
    "        foodtalk_following=[]\n",
    "        count=0\n",
    "        while True:\n",
    "            elements_id=driver.find_elements_by_xpath('//li[contains(@class, \"wo9IH\")]')\n",
    "            if len(elements_id)<total_followers:\n",
    "                waiter=WebDriverWait(driver, 10).until(EC.presence_of_element_located((By.XPATH, '//ul[contains(@class, \"jSC57\")]')))\n",
    "                driver.execute_script('arguments[0].scrollIntoView(0, 100);', driver.find_element_by_xpath('//ul[contains(@class, \"jSC57\")]'))\n",
    "                time.sleep(0.8)\n",
    "            i=elements_id[count]\n",
    "            if elements_id[count].get_attribute('outerHTML').find('Following')!= -1:\n",
    "                index=elements_id[count].get_attribute('outerHTML').find('title')\n",
    "                follower_id=elements_id[count].get_attribute('outerHTML')[index:].split('\"')[1]\n",
    "                print(follower_id)\n",
    "                foodtalk_following.append(follower_id)\n",
    "            if count==total_followers-1:\n",
    "                break\n",
    "            count+=1\n",
    "    except StaleElementReferenceException:\n",
    "        continue"
   ]
  },
  {
   "cell_type": "code",
   "execution_count": null,
   "metadata": {},
   "outputs": [],
   "source": [
    "foodtalk_following"
   ]
  },
  {
   "cell_type": "code",
   "execution_count": null,
   "metadata": {},
   "outputs": [],
   "source": [
    "driver.find_element_by_xpath(\"//div[@class='WaOAr']/button\").click()"
   ]
  },
  {
   "cell_type": "code",
   "execution_count": null,
   "metadata": {},
   "outputs": [],
   "source": [
    "#people who follow the user:\n",
    "#visiting the profile pagef154700c448e384\n",
    "driver.find_element_by_xpath(\"//div[@class='Fifk5']/span\").click()\n",
    "driver.find_element_by_xpath(\"//div[contains(@class,'MMzan')]/div/div\").click()"
   ]
  },
  {
   "cell_type": "code",
   "execution_count": null,
   "metadata": {},
   "outputs": [],
   "source": [
    "#to find total number of followers\n",
    "total_followers_user=driver.find_element_by_xpath('//section[@class=\"zwlfE\"]/ul/li/a/span').get_attribute('title')\n",
    "try:\n",
    "    total_followers_user=int((total_followers_user).replace(\",\",\"\"))\n",
    "except AttributeError:\n",
    "     total_followers_user=int(total_followers_user)"
   ]
  },
  {
   "cell_type": "code",
   "execution_count": null,
   "metadata": {},
   "outputs": [],
   "source": [
    "#to get the list of followers\n",
    "driver.find_element_by_xpath('//section[@class=\"zwlfE\"]/ul/li/a').click()"
   ]
  },
  {
   "cell_type": "code",
   "execution_count": null,
   "metadata": {},
   "outputs": [],
   "source": [
    "#those who follow the user are\n",
    "while True:\n",
    "    try:\n",
    "        user_followers=[]\n",
    "        count=0\n",
    "        while True:\n",
    "            elements=driver.find_elements_by_xpath('//a[contains(@class, \"notranslate\")]')\n",
    "            if len(elements)<total_followers_user:\n",
    "                waiter=WebDriverWait(driver, 10).until(EC.presence_of_element_located((By.XPATH, '//ul[contains(@class, \"jSC57\")]')))\n",
    "                driver.execute_script('arguments[0].scrollIntoView(0, 100);', driver.find_element_by_xpath('//ul[contains(@class, \"jSC57\")]'))\n",
    "                time.sleep(0.8)\n",
    "            i=elements[count]\n",
    "            user_followers.append(i.get_attribute('innerHTML'))\n",
    "            if len(user_followers)>=total_followers_user:\n",
    "                break\n",
    "            count+=1\n",
    "        break\n",
    "    except StaleElementReferenceException:\n",
    "        continue\n",
    "print(user_followers)"
   ]
  },
  {
   "cell_type": "code",
   "execution_count": null,
   "metadata": {},
   "outputs": [],
   "source": [
    "driver.find_element_by_xpath(\"//div[@class='WaOAr']/button\").click()"
   ]
  },
  {
   "cell_type": "code",
   "execution_count": null,
   "metadata": {},
   "outputs": [],
   "source": [
    "#followers of foodtalkindia who follow the user and the user follows them\n",
    "foodtalk_following=set(foodtalk_following)\n",
    "user_followers=set(user_followers)\n",
    "followers_mutually_followed=foodtalk_following.intersection(user_followers)\n",
    "followers_of_foodtalk_user_follows_not_followed_by_them=foodtalk_following-followers_mutually_followed\n",
    "if followers_of_foodtalk_user_follows_not_followed_by_them==0:\n",
    "    print(\"None are found\")\n",
    "else:\n",
    "    print(followers_of_foodtalk_user_follows_not_followed_by_them)\n",
    "\n",
    "\n"
   ]
  },
  {
   "cell_type": "markdown",
   "metadata": {},
   "source": [
    "## 7. Visiting Coding Ninjas and Seeing their story"
   ]
  },
  {
   "cell_type": "code",
   "execution_count": null,
   "metadata": {},
   "outputs": [],
   "source": [
    "search_box=driver.find_element_by_xpath(\"//div[contains(@class,'LWmhU')]/input\")\n",
    "search_box.send_keys('coding.ninjas')\n",
    "waiter=WebDriverWait(driver,10).until(EC.presence_of_element_located((By.XPATH,\"//a[contains(@class,'yCE8d')]\")))\n",
    "driver.find_element_by_xpath('//a[contains(@class,\"yCE8d\")]').click()"
   ]
  },
  {
   "cell_type": "code",
   "execution_count": null,
   "metadata": {},
   "outputs": [],
   "source": [
    "##applying the various conditions provided\n",
    "try:\n",
    "    if int(driver.find_element_by_xpath('//div[contains(@class, \"h5uC0\")]/canvas').get_attribute('height'))==168:\n",
    "        print('You have not seen the story yet!Check out the window now to see the story')\n",
    "        driver.find_element_by_xpath('//div[contains(@class, \"h5uC0\")]').click()\n",
    "    elif int(driver.find_element_by_xpath('//div[contains(@class, \"h5uC0\")]/canvas').get_attribute('height'))==166:\n",
    "        print('You have already seen the story!')\n",
    "except NoSuchElementException:\n",
    "    print('The user has no story!')"
   ]
  }
 ],
 "metadata": {
  "kernelspec": {
   "display_name": "Python 3",
   "language": "python",
   "name": "python3"
  },
  "language_info": {
   "codemirror_mode": {
    "name": "ipython",
    "version": 3
   },
   "file_extension": ".py",
   "mimetype": "text/x-python",
   "name": "python",
   "nbconvert_exporter": "python",
   "pygments_lexer": "ipython3",
   "version": "3.7.6"
  }
 },
 "nbformat": 4,
 "nbformat_minor": 4
}
